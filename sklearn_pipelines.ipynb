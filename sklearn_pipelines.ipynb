{
 "cells": [
  {
   "cell_type": "code",
   "execution_count": 63,
   "id": "d91c8461",
   "metadata": {},
   "outputs": [],
   "source": [
    "import pandas as pd\n",
    "import numpy as np\n",
    "import matplotlib.pyplot as plt\n",
    "df = pd.read_csv(\"housing_data.csv\")"
   ]
  },
  {
   "cell_type": "code",
   "execution_count": 64,
   "id": "3a4fc7cf",
   "metadata": {},
   "outputs": [],
   "source": [
    "df['income-cat']=pd.cut(df['median_income'],bins=[0,1.5,3.0,4.5,6.0,np.inf],labels=[1,2,3,4,5])"
   ]
  },
  {
   "cell_type": "code",
   "execution_count": 65,
   "id": "be13b986",
   "metadata": {},
   "outputs": [],
   "source": [
    "from sklearn.model_selection import StratifiedShuffleSplit\n",
    "split=StratifiedShuffleSplit(n_splits=1,test_size=0.2,random_state=42)\n",
    "for train_index,test_index in split.split(df,df['income-cat']):\n",
    "    strat_train_set=df.loc[train_index]\n",
    "    strat_test_set=df.loc[test_index]\n",
    "    "
   ]
  },
  {
   "cell_type": "code",
   "execution_count": 66,
   "id": "6b5b79a6",
   "metadata": {},
   "outputs": [],
   "source": [
    "for set in (strat_train_set,strat_test_set):\n",
    "    set.drop(\"income-cat\",axis=1,inplace=True) "
   ]
  },
  {
   "cell_type": "code",
   "execution_count": 67,
   "id": "f239cb7e",
   "metadata": {},
   "outputs": [],
   "source": [
    "df=strat_train_set.copy()"
   ]
  },
  {
   "cell_type": "code",
   "execution_count": 68,
   "id": "6b105756",
   "metadata": {},
   "outputs": [],
   "source": [
    "housing=strat_train_set.drop([\"median_house_value\"],axis=1)\n",
    "housing_labels=strat_train_set[\"median_house_value\"].copy()"
   ]
  },
  {
   "cell_type": "code",
   "execution_count": 69,
   "id": "01ad3e71",
   "metadata": {},
   "outputs": [],
   "source": [
    "housing=housing.drop(\"ocean_proximity\",axis=1)"
   ]
  },
  {
   "cell_type": "code",
   "execution_count": 70,
   "id": "20596435",
   "metadata": {},
   "outputs": [],
   "source": [
    "from sklearn.pipeline import Pipeline\n",
    "from sklearn.impute import SimpleImputer\n",
    "from sklearn.preprocessing import StandardScaler"
   ]
  },
  {
   "cell_type": "code",
   "execution_count": 71,
   "id": "6415a3e0",
   "metadata": {},
   "outputs": [],
   "source": [
    "mypipeline=Pipeline([\n",
    "    (\"impute\",SimpleImputer(strategy=\"median\")),\n",
    "    (\"standardize\",StandardScaler())\n",
    "])"
   ]
  },
  {
   "cell_type": "code",
   "execution_count": 72,
   "id": "8d0ca140",
   "metadata": {},
   "outputs": [
    {
     "data": {
      "text/plain": [
       "array([[-0.94135046,  1.34743822,  0.02756357, ...,  0.73260236,\n",
       "         0.55628602, -0.8936472 ],\n",
       "       [ 1.17178212, -1.19243966, -1.72201763, ...,  0.53361152,\n",
       "         0.72131799,  1.292168  ],\n",
       "       [ 0.26758118, -0.1259716 ,  1.22045984, ..., -0.67467519,\n",
       "        -0.52440722, -0.52543365],\n",
       "       ...,\n",
       "       [-1.5707942 ,  1.31001828,  1.53856552, ..., -0.86201341,\n",
       "        -0.86511838, -0.36547546],\n",
       "       [-1.56080303,  1.2492109 , -1.1653327 , ..., -0.18974707,\n",
       "         0.01061579,  0.16826095],\n",
       "       [-1.28105026,  2.02567448, -0.13148926, ..., -0.71232211,\n",
       "        -0.79857323, -0.390569  ]])"
      ]
     },
     "execution_count": 72,
     "metadata": {},
     "output_type": "execute_result"
    }
   ],
   "source": [
    "mypipeline.fit_transform(housing)"
   ]
  },
  {
   "cell_type": "code",
   "execution_count": null,
   "id": "6433a837",
   "metadata": {},
   "outputs": [],
   "source": []
  }
 ],
 "metadata": {
  "kernelspec": {
   "display_name": "base",
   "language": "python",
   "name": "python3"
  },
  "language_info": {
   "codemirror_mode": {
    "name": "ipython",
    "version": 3
   },
   "file_extension": ".py",
   "mimetype": "text/x-python",
   "name": "python",
   "nbconvert_exporter": "python",
   "pygments_lexer": "ipython3",
   "version": "3.13.5"
  }
 },
 "nbformat": 4,
 "nbformat_minor": 5
}
